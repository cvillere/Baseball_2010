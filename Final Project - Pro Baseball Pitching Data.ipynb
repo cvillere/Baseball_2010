{
 "cells": [
  {
   "cell_type": "markdown",
   "metadata": {},
   "source": [
    "# Quality of Analysis"
   ]
  },
  {
   "cell_type": "code",
   "execution_count": 1,
   "metadata": {
    "collapsed": true
   },
   "outputs": [],
   "source": [
    "import matplotlib.pyplot as plt\n",
    "import numpy as np\n",
    "import pandas as pd\n",
    "import seaborn as sns\n",
    "import unicodecsv\n",
    "%matplotlib inline"
   ]
  },
  {
   "cell_type": "markdown",
   "metadata": {},
   "source": [
    "# Research Question : Of all the pitchers who pitched in the 2010 postseason did the pitchers who made less money perform better or did the pitchers who made more money perform better? "
   ]
  },
  {
   "cell_type": "code",
   "execution_count": 119,
   "metadata": {
    "collapsed": true
   },
   "outputs": [],
   "source": [
    "filename = 'C:/Users/Plo/Intro to Data Analysis/final project/Pitching.csv'\n",
    "filename2 = 'C:/Users/Plo/Intro to Data Analysis/final project/PitchingPost.csv'\n",
    "filename3 = 'C:/Users/Plo/Intro to Data Analysis/final project/Salaries.csv'"
   ]
  },
  {
   "cell_type": "code",
   "execution_count": 120,
   "metadata": {
    "collapsed": false
   },
   "outputs": [],
   "source": [
    "pitchingReg_df = pd.read_csv(filename)\n",
    "pitchingPost_df = pd.read_csv(filename2)\n",
    "Salaries_df = pd.read_csv(filename3)"
   ]
  },
  {
   "cell_type": "markdown",
   "metadata": {},
   "source": [
    "# Data Wrangling Phase"
   ]
  },
  {
   "cell_type": "code",
   "execution_count": 121,
   "metadata": {
    "collapsed": false
   },
   "outputs": [
    {
     "data": {
      "text/plain": [
       "count    635.000000\n",
       "mean       1.723611\n",
       "std        1.585883\n",
       "min        0.000000\n",
       "25%        1.098919\n",
       "50%        1.417808\n",
       "75%        1.842739\n",
       "max       22.500000\n",
       "Name: Adj_ERA_Reg, dtype: float64"
      ]
     },
     "execution_count": 121,
     "metadata": {},
     "output_type": "execute_result"
    }
   ],
   "source": [
    "# Subsetting the Regular season pitching data to get the columns from the original dataframe I want for my analysis\n",
    "# The Regular season data while not included in the research question is used in the analysis as a way to compare\n",
    "# the performance of the postseason pitchers to their regular season performance\n",
    "\n",
    "# I label ERA as Adj_ERA because I had to do some vectorized operations on the postseason data in order to get\n",
    "# their ERA for the entirety of the innings they pitched in the postseason. The postseason pitching data was divided\n",
    "# up by series. Therefore, I performed the same calculation on the regular season data as I did on the postseason data. \n",
    "# I divided the number of earned runs given up by each pitcher by the number of IPouts and multiplied that result by 9. \n",
    "# This was done for the reason season data for each pitcher, as well as the postseason data for each pitcher.\n",
    "\n",
    "# WHIP is another metric used to measure statistical performance of pitchers. It is calculated in a similiar way to ERA. \n",
    "# The total number of BB, or walks, plus H, or hits, is added together and divided by IPouts.\n",
    "\n",
    "Pitching_Reg_Stats_2010 = pitchingReg_df[pitchingReg_df['yearID'] == 2010][['playerID','IPouts','ER', 'BB', 'H']]\n",
    "Pitching_Reg = pd.DataFrame(Pitching_Reg_Stats_2010.groupby('playerID', as_index = False).sum())\n",
    "Pitching_Reg['Adj_ERA_Reg'] = (Pitching_Reg['ER'] / Pitching_Reg['IPouts']) * 9\n",
    "Pitching_Reg['Normalized_ERA_Reg'] = (Pitching_Reg['Adj_ERA_Reg'] - Pitching_Reg['Adj_ERA_Reg'].mean()) / \\\n",
    "Pitching_Reg['Adj_ERA_Reg'].std()\n",
    "Pitching_Reg['WHIP_Reg'] = (Pitching_Reg['H'] + Pitching_Reg['BB']) / (Pitching_Reg['IPouts']) \n",
    "Pitching_Reg['Adj_ERA_Reg'].describe()\n"
   ]
  },
  {
   "cell_type": "code",
   "execution_count": 122,
   "metadata": {
    "collapsed": false
   },
   "outputs": [
    {
     "data": {
      "text/plain": [
       "count    85.000000\n",
       "mean      1.669042\n",
       "std       3.301029\n",
       "min       0.000000\n",
       "25%       0.000000\n",
       "50%       0.725806\n",
       "75%       1.928571\n",
       "max      22.500000\n",
       "Name: Adj_ERA_Post, dtype: float64"
      ]
     },
     "execution_count": 122,
     "metadata": {},
     "output_type": "execute_result"
    }
   ],
   "source": [
    "# Subsetting the Regular season pitching data to get the columns from the original dataframe I want for my analysis.\n",
    "\n",
    "Pitching_Post_Stats_2010 = pitchingPost_df[pitchingPost_df['yearID'] == 2010][['playerID','IPouts','ER', 'H', 'BB']]\n",
    "Pitching_Post = pd.DataFrame(Pitching_Post_Stats_2010.groupby('playerID', as_index = False).sum())\n",
    "Pitching_Post['Adj_ERA_Post'] = Pitching_Post['ER'] / Pitching_Post['IPouts'] * 9\n",
    "Pitching_Post['Normalized_ERA_Post'] = (Pitching_Post['Adj_ERA_Post'] - Pitching_Post['Adj_ERA_Post'].mean()) / \\\n",
    "Pitching_Post['Adj_ERA_Post'].std()\n",
    "Pitching_Post['WHIP_Post'] = (Pitching_Post['H'] + Pitching_Post['BB']) / (Pitching_Post['IPouts'])\n",
    "Pitching_Post['Adj_ERA_Post'].describe()"
   ]
  },
  {
   "cell_type": "code",
   "execution_count": 123,
   "metadata": {
    "collapsed": false
   },
   "outputs": [],
   "source": [
    "# Subsetting the salary data, which will be merged with the regular season data and postseason data in a new dataframe.\n",
    "\n",
    "Salaries2010 = Salaries_df[Salaries_df['yearID'] == 2010][['playerID', 'salary']]"
   ]
  },
  {
   "cell_type": "code",
   "execution_count": 124,
   "metadata": {
    "collapsed": false
   },
   "outputs": [],
   "source": [
    "# Merging the Regular Season and Postseason pitching data\n",
    "\n",
    "Merge_Post_And_Reg = Pitching_Reg.merge(Pitching_Post, on = 'playerID', how = 'inner')\n",
    "\n",
    "# Changing the names of a few columns in  the merged dataFrame to be more clear\n",
    "\n",
    "Merge_Post_And_Reg['IPouts_Reg'] = Merge_Post_And_Reg['IPouts_x']\n",
    "del Merge_Post_And_Reg['IPouts_x']\n",
    "Merge_Post_And_Reg['IPouts_Post'] = Merge_Post_And_Reg['IPouts_y']\n",
    "del Merge_Post_And_Reg['IPouts_y']\n",
    "Merge_Post_And_Reg['ER_Reg'] = Merge_Post_And_Reg['ER_x']\n",
    "del Merge_Post_And_Reg['ER_x']\n",
    "Merge_Post_And_Reg['ER_Post'] = Merge_Post_And_Reg['ER_y']\n",
    "del Merge_Post_And_Reg['ER_y']\n",
    "\n",
    "# Merging the Regular Season and Postseason pitching dataFrame with the salary dataFrame. \n",
    "# There are a total of 85 pitchers from 2010 who pitched in the postseason. However, there is only salary information\n",
    "# for 70 of them. I do not have any recourse to determine the missing salary numbers. Therefore, they were obmitted from \n",
    "# the Merge_RegPost_Salary dataFrame. \n",
    "\n",
    "Merge_RegPost_Salary = Merge_Post_And_Reg.merge(Salaries2010, on = 'playerID', how = 'inner')"
   ]
  },
  {
   "cell_type": "markdown",
   "metadata": {},
   "source": [
    "# Exploration Phase"
   ]
  },
  {
   "cell_type": "code",
   "execution_count": 125,
   "metadata": {
    "collapsed": false
   },
   "outputs": [
    {
     "data": {
      "text/plain": [
       "array([[<matplotlib.axes._subplots.AxesSubplot object at 0x000000001346C550>]], dtype=object)"
      ]
     },
     "execution_count": 125,
     "metadata": {},
     "output_type": "execute_result"
    },
    {
     "data": {
      "image/png": "[encoded data removed]",
      "text/plain": [
       "<matplotlib.figure.Figure at 0x134d3898>"
      ]
     },
     "metadata": {},
     "output_type": "display_data"
    }
   ],
   "source": [
    "# Histogram of Regular season WHIP for pitchers who pitched in the Postseason.\n",
    "\n",
    "Merge_RegPost_Salary.hist('WHIP_Reg', bins = 20, range=[0.0, 3.0])"
   ]
  },
  {
   "cell_type": "code",
   "execution_count": 126,
   "metadata": {
    "collapsed": false
   },
   "outputs": [
    {
     "data": {
      "text/plain": [
       "array([[<matplotlib.axes._subplots.AxesSubplot object at 0x00000000136C91D0>]], dtype=object)"
      ]
     },
     "execution_count": 126,
     "metadata": {},
     "output_type": "execute_result"
    },
    {
     "data": {
      "image/png": "[encoded data removed]",
      "text/plain": [
       "<matplotlib.figure.Figure at 0x9cf9cc0>"
      ]
     },
     "metadata": {},
     "output_type": "display_data"
    }
   ],
   "source": [
    "# Histogram of Postseason WHIP.\n",
    "\n",
    "Merge_RegPost_Salary.hist('WHIP_Post', bins = 20, range=[0.0, 3.0], facecolor = 'red')"
   ]
  },
  {
   "cell_type": "code",
   "execution_count": 127,
   "metadata": {
    "collapsed": false
   },
   "outputs": [
    {
     "data": {
      "text/plain": [
       "array([[<matplotlib.axes._subplots.AxesSubplot object at 0x00000000137495F8>]], dtype=object)"
      ]
     },
     "execution_count": 127,
     "metadata": {},
     "output_type": "execute_result"
    },
    {
     "data": {
      "image/png": "[encoded data removed]",
      "text/plain": [
       "<matplotlib.figure.Figure at 0x13f68be0>"
      ]
     },
     "metadata": {},
     "output_type": "display_data"
    }
   ],
   "source": [
    "# Histogram of Regular Season ERA for pitchers who pitched in the postseason.\n",
    "\n",
    "Merge_RegPost_Salary.hist('Adj_ERA_Reg', bins = 20, range=[0.0, 3.0])\n"
   ]
  },
  {
   "cell_type": "code",
   "execution_count": 128,
   "metadata": {
    "collapsed": false
   },
   "outputs": [
    {
     "data": {
      "text/plain": [
       "array([[<matplotlib.axes._subplots.AxesSubplot object at 0x000000001315E908>]], dtype=object)"
      ]
     },
     "execution_count": 128,
     "metadata": {},
     "output_type": "execute_result"
    },
    {
     "data": {
      "image/png": "[encoded data removed]",
      "text/plain": [
       "<matplotlib.figure.Figure at 0x13168cf8>"
      ]
     },
     "metadata": {},
     "output_type": "display_data"
    }
   ],
   "source": [
    "# Histogram of Post Season ERA.\n",
    "\n",
    "Merge_RegPost_Salary.hist(\"Adj_ERA_Post\", bins = 20, range=[0.0,4.0], facecolor = 'red')"
   ]
  },
  {
   "cell_type": "code",
   "execution_count": 129,
   "metadata": {
    "collapsed": false
   },
   "outputs": [
    {
     "data": {
      "text/plain": [
       "<matplotlib.text.Text at 0x1444c3c8>"
      ]
     },
     "execution_count": 129,
     "metadata": {},
     "output_type": "execute_result"
    },
    {
     "data": {
      "image/png": "[encoded data removed]",
      "text/plain": [
       "<matplotlib.figure.Figure at 0x13a479e8>"
      ]
     },
     "metadata": {},
     "output_type": "display_data"
    }
   ],
   "source": [
    "# Scatterplot of regular season data: Salary is x, ERA is y\n",
    "\n",
    "Ax = Merge_RegPost_Salary.plot.scatter(x = 'salary', y = 'Adj_ERA_Reg', color = 'DarkBlue')\n",
    "Scatter_Final = Merge_RegPost_Salary.plot.scatter(x = 'salary', y = 'Adj_ERA_Post', color = 'DarkGreen', ax=Ax,\\\n",
    "title = 'Regular Season vs. Postseason ERA')\n",
    "Scatter_Final.set_xlim([0, 20000000])\n",
    "Scatter_Final.set_ylim([0, 4])\n",
    "Scatter_Final.set_xlabel('salary')\n",
    "Scatter_Final.set_ylabel('ERA')\n",
    "#df.plot.scatter(x='a', y='b')"
   ]
  },
  {
   "cell_type": "code",
   "execution_count": 130,
   "metadata": {
    "collapsed": false
   },
   "outputs": [
    {
     "data": {
      "text/plain": [
       "<matplotlib.text.Text at 0x14520470>"
      ]
     },
     "execution_count": 130,
     "metadata": {},
     "output_type": "execute_result"
    },
    {
     "data": {
      "image/png": "[encoded data removed]",
      "text/plain": [
       "<matplotlib.figure.Figure at 0x14462cc0>"
      ]
     },
     "metadata": {},
     "output_type": "display_data"
    }
   ],
   "source": [
    "# Scatterplot of Regular season and Postseason data: Salary is x, WHIP is y\n",
    "\n",
    "Ax = Merge_RegPost_Salary.plot.scatter(x = 'salary', y = 'WHIP_Reg', color = 'DarkBlue')\n",
    "Scatter_Final = Merge_RegPost_Salary.plot.scatter(x = 'salary', y = 'WHIP_Post', color = 'DarkGreen', ax=Ax,\\\n",
    "title = 'Regular Season vs. Postseason WHIP')\n",
    "Scatter_Final.set_xlim([0, 20000000])\n",
    "Scatter_Final.set_ylim([0, 4])\n",
    "Scatter_Final.set_xlabel('salary')\n",
    "Scatter_Final.set_ylabel('WHIP')"
   ]
  },
  {
   "cell_type": "markdown",
   "metadata": {
    "collapsed": true
   },
   "source": [
    "# Conclusions Phase"
   ]
  },
  {
   "cell_type": "markdown",
   "metadata": {},
   "source": [
    "The result of the analysis is the pitchers who pitched in the postseason of 2010 and made more money in 2010 generally held their Postseason performance constant to their Regular Season performance. In other words, they performed well in the regular season and they continued that through the Postseason. However, the pitchers who made less money had more variability in their Postseason performance compared to their Regular Season performance. \n",
    "\n",
    "A big reason for the higher variability among pitchers who made less money is those pitchers are expected to face fewer batters. In the Postseason, which is a very small sample size of at the most 20 games and at the least 3 games, a pitcher may only enter a game once, and face only one batter. This potential incredibly small sample size could skew the data one way or the other. \n",
    "\n",
    "Because of this, it is difficult to say, the way to get better pitching performance is pay a premium for better pitching. It is also difficult to say that if you don't pay a premium, your chances of getting better pitching performances in the Postseason decrease.\n"
   ]
  },
  {
   "cell_type": "markdown",
   "metadata": {
    "collapsed": true
   },
   "source": [
    "Websites Used\n",
    "\n",
    "1) http://stackoverflow.com/questions/19237878/subsetting-a-python-dataframe\n",
    "        - Shows how to subset a dataframe\n",
    "        \n",
    "2) http://stackoverflow.com/questions/19482970/get-list-from-pandas-dataframe-column-headers\n",
    "        - Gives a list of column names of the dataframe\n",
    "        \n",
    "3) http://stackoverflow.com/questions/7376330/axis-range-in-scatter-graphs\n",
    "        - how to change axis range of a scatterplot\n",
    "        \n",
    "4) http://pandas.pydata.org/pandas-docs/version/0.17.1/generated/pandas.DataFrame.hist.html\n",
    "        - Create a histogram from a column of a dataFrame\n",
    "        \n",
    "5) http://stackoverflow.com/questions/12125880/changing-default-x-range-in-histogram-matplotlib\n",
    "        - changing the range size of horizontal axis for a histogram\n",
    "        \n",
    "6) http://stackoverflow.com/questions/10373660/converting-a-pandas-groupby-object-to-dataframe\n",
    "        - how to turn a grouped object into a dataFrame\n",
    "        \n",
    "7) https://plot.ly/matplotlib/histograms/\n",
    "        - how to change the color of a histogram\n",
    "        \n",
    "8) http://pandas.pydata.org/pandas-docs/stable/visualization.html\n",
    "        - how to put two scatter plots on the same scatter plot diagram and change the color of the dots\n",
    "        \n",
    "9) http://pandas.pydata.org/pandas-docs/stable/generated/pandas.DataFrame.describe.html\n",
    "        - how to get an output of descriptive statistics for a dataframe value\n",
    "        \n",
    "10) http://www.reynwar.net/ben/docs/matplotlib/\n",
    "        - how to label scatter plot x and y axis\n"
   ]
  },
  {
   "cell_type": "code",
   "execution_count": null,
   "metadata": {
    "collapsed": true
   },
   "outputs": [],
   "source": []
  }
 ],
 "metadata": {
  "kernelspec": {
   "display_name": "Python 2",
   "language": "python",
   "name": "python2"
  },
  "language_info": {
   "codemirror_mode": {
    "name": "ipython",
    "version": 2
   },
   "file_extension": ".py",
   "mimetype": "text/x-python",
   "name": "python",
   "nbconvert_exporter": "python",
   "pygments_lexer": "ipython2",
   "version": "2.7.12"
  }
 },
 "nbformat": 4,
 "nbformat_minor": 0
}
